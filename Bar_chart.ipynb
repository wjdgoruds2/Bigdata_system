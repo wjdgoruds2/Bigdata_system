{
  "nbformat": 4,
  "nbformat_minor": 0,
  "metadata": {
    "colab": {
      "name": "Bar_chart.ipynb",
      "provenance": [],
      "authorship_tag": "ABX9TyNYLux4XZiIqe5L8K/SOkBu",
      "include_colab_link": true
    },
    "kernelspec": {
      "name": "python3",
      "display_name": "Python 3"
    },
    "language_info": {
      "name": "python"
    }
  },
  "cells": [
    {
      "cell_type": "markdown",
      "metadata": {
        "id": "view-in-github",
        "colab_type": "text"
      },
      "source": [
        "<a href=\"https://colab.research.google.com/github/wjdgoruds2/Bigdata_system/blob/main/Bar_chart.ipynb\" target=\"_parent\"><img src=\"https://colab.research.google.com/assets/colab-badge.svg\" alt=\"Open In Colab\"/></a>"
      ]
    },
    {
      "cell_type": "code",
      "metadata": {
        "colab": {
          "base_uri": "https://localhost:8080/",
          "height": 279
        },
        "id": "A3mWe5oCYxtB",
        "outputId": "1e62e11a-da20-4392-e353-b0d45b189a90"
      },
      "source": [
        "import pandas as pd\n",
        "import numpy as np\n",
        "import matplotlib.pyplot as plt\n",
        "\n",
        "df = pd.DataFrame({'State':['SC', 'UT', 'PR','KY','IL','DC','DE','WI','HI','TX','WV','TN','MD','MA','NM','ID','MS','VA','WA','IA'], 'Number of deaths after vaccination':[10,7,19,66,86,4,5,37,20,83,14,29,26,28,15,7,12,33,37,25]})\n",
        "ax = df.plot.bar(x='State', y='Number of deaths after vaccination', rot=0)\n"
      ],
      "execution_count": 1,
      "outputs": [
        {
          "output_type": "display_data",
          "data": {
            "image/png": "[encoded data removed]",
            "text/plain": [
              "<Figure size 432x288 with 1 Axes>"
            ]
          },
          "metadata": {
            "tags": [],
            "needs_background": "light"
          }
        }
      ]
    }
  ]
}